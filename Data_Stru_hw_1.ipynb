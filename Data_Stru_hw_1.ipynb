{
  "nbformat": 4,
  "nbformat_minor": 0,
  "metadata": {
    "colab": {
      "provenance": [],
      "authorship_tag": "ABX9TyNiPRaVE8oZC1UJhD/NNj10",
      "include_colab_link": true
    },
    "kernelspec": {
      "name": "python3",
      "display_name": "Python 3"
    },
    "language_info": {
      "name": "python"
    }
  },
  "cells": [
    {
      "cell_type": "markdown",
      "metadata": {
        "id": "view-in-github",
        "colab_type": "text"
      },
      "source": [
        "<a href=\"https://colab.research.google.com/github/ronish645/Data-S-ronish/blob/main/Data_Stru_hw_1.ipynb\" target=\"_parent\"><img src=\"https://colab.research.google.com/assets/colab-badge.svg\" alt=\"Open In Colab\"/></a>"
      ]
    },
    {
      "cell_type": "code",
      "execution_count": 1,
      "metadata": {
        "colab": {
          "base_uri": "https://localhost:8080/"
        },
        "id": "ns_7DRA7Eur8",
        "outputId": "49f725dc-f05b-4c06-d052-35fff5a891a1"
      },
      "outputs": [
        {
          "output_type": "stream",
          "name": "stdout",
          "text": [
            "2->3->"
          ]
        }
      ],
      "source": [
        "#Q.No.1\n",
        "class ListNode:\n",
        "    def __init__(self, val=0, next=None):\n",
        "        self.val = val\n",
        "        self.next = next\n",
        "\n",
        "def delete_linked_list_node(head: ListNode, key: int) -> ListNode:\n",
        "    # If the linked list is empty, return None\n",
        "    if not head:\n",
        "        return None\n",
        "\n",
        "    # Create a dummy node as the new head of the linked list\n",
        "    dummy = ListNode(0, head)\n",
        "    prev, curr = dummy, dummy.next\n",
        "\n",
        "    # Traverse the linked list and delete nodes with the given value\n",
        "    while curr:\n",
        "        if curr.val == key:\n",
        "            prev.next = curr.next\n",
        "        else:\n",
        "            prev = curr\n",
        "        curr = curr.next\n",
        "\n",
        "    # Return the new head of the linked list\n",
        "    return dummy.next\n",
        "# Create the input linked list\n",
        "a = ListNode(1, ListNode(2, ListNode(1, ListNode(3))))\n",
        "\n",
        "# Delete nodes with value 1\n",
        "new_a = delete_linked_list_node(a, 1)\n",
        "\n",
        "# Print the new linked list\n",
        "while new_a:\n",
        "    print(new_a.val, end='->')\n",
        "    new_a = new_a.next\n"
      ]
    },
    {
      "cell_type": "code",
      "source": [
        "#Q.nO.2\n",
        "class Node:\n",
        "    def __init__(self, val=0, next=None):\n",
        "        self.val = val\n",
        "        self.next = next\n",
        "\n",
        "def delete_node_value(head):\n",
        "    if not head:\n",
        "        return head\n",
        "    \n",
        "    # Create a dictionary to store value frequencies\n",
        "    freq = {}\n",
        "    node = head\n",
        "    \n",
        "    # Traverse the linked list and count value frequencies\n",
        "    while node:\n",
        "        freq[node.val] = freq.get(node.val, 0) + 1\n",
        "        node = node.next\n",
        "    \n",
        "    # Traverse the linked list again and remove nodes with duplicated values\n",
        "    dummy = Node(0, head)  # Create a dummy node to handle head removal\n",
        "    node = dummy\n",
        "    while node.next:\n",
        "        if freq[node.next.val] > 1:  # Remove nodes with duplicated values\n",
        "            if node.next == head:   # Check if the head node has duplicated values\n",
        "                head = head.next    # Update the head node\n",
        "            node.next = node.next.next\n",
        "        else:\n",
        "            node = node.next\n",
        "    \n",
        "    return head  # Return the head of the modified linked list\n",
        "# Create a linked list: 1 -> 2 -> 1 -> 3 -> 2 -> None\n",
        "head = Node(1, Node(2, Node(1, Node(3, Node(2)))))\n",
        "\n",
        "# Remove nodes with duplicated values from the linked list\n",
        "new_head = delete_node_value(head)\n",
        "\n",
        "# Print the modified linked list: 3 -> None\n",
        "node = new_head\n",
        "while node:\n",
        "    print(node.val, end=\" -> \")\n",
        "    node = node.next\n",
        "print(\"None\")"
      ],
      "metadata": {
        "colab": {
          "base_uri": "https://localhost:8080/"
        },
        "id": "8VK1sWGZE4Of",
        "outputId": "54d61064-4ad0-4ec6-808f-ed5afe3ac148"
      },
      "execution_count": 2,
      "outputs": [
        {
          "output_type": "stream",
          "name": "stdout",
          "text": [
            "3 -> None\n"
          ]
        }
      ]
    },
    {
      "cell_type": "code",
      "source": [
        "#Q.No.3\n",
        "class Node:\n",
        "    def __init__(self, val=0, next=None):\n",
        "        self.val = val\n",
        "        self.next = next\n",
        "\n",
        "def delete_duplicates(head):\n",
        "    if not head:\n",
        "        return head\n",
        "    \n",
        "    # Create a set to store unique elements\n",
        "    unique = set([head.val])\n",
        "    node = head\n",
        "    \n",
        "    # Traverse the linked list\n",
        "    while node.next:\n",
        "        # If the next node has a duplicate value, remove it\n",
        "        if node.next.val in unique:\n",
        "            node.next = node.next.next\n",
        "        # Otherwise, add the value to the set of unique elements\n",
        "        else:\n",
        "            unique.add(node.next.val)\n",
        "            node = node.next\n",
        "    \n",
        "    return head\n",
        "\n",
        "# Create a linked list: 1 -> 2 -> 1 -> 3 -> 2 \n",
        "head = Node(1, Node(2, Node(1, Node(3, Node(2)))))\n",
        "\n",
        "# Remove duplicates from the linked list\n",
        "new_head = delete_duplicates(head)\n",
        "\n",
        "# Print the modified linked list: 1 -> 2 -> 3 \n",
        "node = new_head\n",
        "while node:\n",
        "    print(node.val, end=\" -> \")\n",
        "    node = node.next\n"
      ],
      "metadata": {
        "colab": {
          "base_uri": "https://localhost:8080/"
        },
        "id": "E4_fZ4bpE7-p",
        "outputId": "86d5e9e9-45ff-455d-adcd-9a1752e87fb8"
      },
      "execution_count": 4,
      "outputs": [
        {
          "output_type": "stream",
          "name": "stdout",
          "text": [
            "1 -> 2 -> 3 -> "
          ]
        }
      ]
    },
    {
      "cell_type": "code",
      "source": [
        "#Q.No.4\n",
        "class Node:\n",
        "    def __init__(self, val=0, next=None):\n",
        "        self.val = val\n",
        "        self.next = next\n",
        "\n",
        "def reverse_list(head):\n",
        "    if not head or not head.next:\n",
        "        return head\n",
        "    \n",
        "    prev = None\n",
        "    curr = head\n",
        "    \n",
        "    while curr:\n",
        "        next_node = curr.next  # Store the next node before modifying the next pointer\n",
        "        curr.next = prev  # Modify the next pointer to point to the previous node\n",
        "        prev = curr  # Move the prev pointer forward\n",
        "        curr = next_node  # Move the curr pointer forward\n",
        "    \n",
        "    return prev  # The last node becomes the new head of the reversed linked list\n",
        "# Create a linked list: 1 -> 2 -> 3 \n",
        "head = Node(1, Node(2, Node(3)))\n",
        "\n",
        "# Reverse the linked list\n",
        "new_head = reverse_list(head)\n",
        "\n",
        "# Print the reversed linked list: 3 -> 2 -> 1 \n",
        "node = new_head\n",
        "while node:\n",
        "    print(node.val, end=\" -> \")\n",
        "    node = node.next\n"
      ],
      "metadata": {
        "colab": {
          "base_uri": "https://localhost:8080/"
        },
        "id": "rebTGsAOE_B2",
        "outputId": "a32c4d7f-2b1b-4b94-c096-066b4662fbaa"
      },
      "execution_count": 7,
      "outputs": [
        {
          "output_type": "stream",
          "name": "stdout",
          "text": [
            "3 -> 2 -> 1 -> "
          ]
        }
      ]
    },
    {
      "cell_type": "code",
      "source": [
        "#Q.No.5\n",
        "class Node:\n",
        "    def __init__(self, val=0, next=None):\n",
        "        self.val = val\n",
        "        self.next = next\n",
        "\n",
        "def average_list(head):\n",
        "    # If the linked list is empty, return 0.0\n",
        "    if not head:\n",
        "        return 0.0\n",
        "    \n",
        "    # Traverse the linked list and keep track of the sum and count\n",
        "    node = head\n",
        "    total_sum = 0\n",
        "    count = 0\n",
        "    \n",
        "    while node:\n",
        "        total_sum += node.val  # Add the value of the current node to the sum\n",
        "        count += 1  # Increment the count\n",
        "        node = node.next  # Move to the next node\n",
        "    \n",
        "    # Calculate and return the average value\n",
        "    return float(total_sum) / count\n",
        "# Create a linked list: 1 -> 2 -> 3 -> None\n",
        "head = Node(1, Node(2, Node(3)))\n",
        "\n",
        "# Calculate the average value\n",
        "avg = average_list(head)\n",
        "\n",
        "print(avg)  # Output: 2.0\n"
      ],
      "metadata": {
        "colab": {
          "base_uri": "https://localhost:8080/"
        },
        "id": "86y02DmBFhSR",
        "outputId": "55adc507-1703-47da-a57a-31ccc70331b2"
      },
      "execution_count": 8,
      "outputs": [
        {
          "output_type": "stream",
          "name": "stdout",
          "text": [
            "2.0\n"
          ]
        }
      ]
    }
  ]
}