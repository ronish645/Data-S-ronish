{
  "nbformat": 4,
  "nbformat_minor": 0,
  "metadata": {
    "colab": {
      "provenance": [],
      "authorship_tag": "ABX9TyO0KLZNneNyYLfLgylMwd+R",
      "include_colab_link": true
    },
    "kernelspec": {
      "name": "python3",
      "display_name": "Python 3"
    },
    "language_info": {
      "name": "python"
    }
  },
  "cells": [
    {
      "cell_type": "markdown",
      "metadata": {
        "id": "view-in-github",
        "colab_type": "text"
      },
      "source": [
        "<a href=\"https://colab.research.google.com/github/ronish645/Data-S-ronish/blob/main/DS4.ipynb\" target=\"_parent\"><img src=\"https://colab.research.google.com/assets/colab-badge.svg\" alt=\"Open In Colab\"/></a>"
      ]
    },
    {
      "cell_type": "code",
      "source": [
        "#Q.No.1\n",
        "import numpy as np\n",
        "\n",
        "class Node:\n",
        "    def __init__(self, val):\n",
        "        self.val = val\n",
        "        self.next = None\n",
        "\n",
        "def insertElem(original, idx, new):\n",
        "    if idx < 0:\n",
        "        return None\n",
        "    new_node = Node(new)\n",
        "    if idx == 0:\n",
        "        new_node.next = original\n",
        "        original = new_node\n",
        "    else:\n",
        "        curr_node = original\n",
        "        prev_node = None\n",
        "        count = 0\n",
        "        while curr_node and count < idx:\n",
        "            prev_node = curr_node\n",
        "            curr_node = curr_node.next\n",
        "            count += 1\n",
        "        if count < idx:\n",
        "            return None\n",
        "        new_node.next = curr_node\n",
        "        if prev_node:\n",
        "            prev_node.next = new_node\n",
        "        else:\n",
        "            original = new_node\n",
        "    return original\n",
        "\n",
        "# example usage\n",
        "elm0 = Node(\"Head\")\n",
        "elm1 = Node(\"S\")\n",
        "elm2 = Node(\"t\")\n",
        "elm3 = Node(\"i\")\n",
        "elm4 = Node(\"n\")\n",
        "elm5 = Node(\"g\")\n",
        "elm0.next = elm1\n",
        "elm1.next = elm2\n",
        "elm2.next = elm3\n",
        "elm3.next = elm4\n",
        "elm4.next = elm5\n",
        "\n",
        "original = elm0\n",
        "new = \"r\"\n",
        "idx = 3\n",
        "original = insertElem(original, idx, new)\n",
        "\n",
        "# print updated linked list\n",
        "curr_node = original\n",
        "while curr_node:\n",
        "    print(curr_node.val, end=\"->\")\n",
        "    curr_node = curr_node.next\n",
        "print(\"None\")\n"
      ],
      "metadata": {
        "colab": {
          "base_uri": "https://localhost:8080/"
        },
        "id": "xbiFgfrc_5uG",
        "outputId": "8d4f469c-47fd-46cd-81ac-4e2d67f2c37a"
      },
      "execution_count": 1,
      "outputs": [
        {
          "output_type": "stream",
          "name": "stdout",
          "text": [
            "Head->S->t->r->i->n->g->None\n"
          ]
        }
      ]
    },
    {
      "cell_type": "code",
      "execution_count": null,
      "metadata": {
        "id": "TrlBvSe8wrJK",
        "colab": {
          "base_uri": "https://localhost:8080/"
        },
        "outputId": "072f407d-0c92-45d6-f844-0a98f0b029db"
      },
      "outputs": [
        {
          "output_type": "stream",
          "name": "stdout",
          "text": [
            "lst0: 1->2->2->1->None\n",
            "lst1: 12->2->1->None\n",
            "lst2: 1->22->1->None\n",
            "lst3: 1->2->21->None\n",
            "char_lst0: A->B->B->A->None\n",
            "char_lst1: L->B->A->None\n",
            "char_lst2: A->V->A->None\n",
            "char_lst3: A->B->U->None\n"
          ]
        }
      ],
      "source": [
        "#Q.No.2\n",
        "class Node:\n",
        "    def __init__(self, val):\n",
        "        self.val = val\n",
        "        self.next = None\n",
        "\n",
        "def convert_to_char_list(head):\n",
        "    def convert_to_char(val):\n",
        "        if val <= 26:\n",
        "            return chr(val + ord('A') - 1)\n",
        "        else:\n",
        "            return '#'\n",
        "    \n",
        "    new_head = Node('')\n",
        "    curr = new_head\n",
        "    while head:\n",
        "        curr.next = Node(convert_to_char(head.val))\n",
        "        curr = curr.next\n",
        "        head = head.next\n",
        "    return new_head.next\n",
        "\n",
        "# Sample input\n",
        "lst0 = Node(1)\n",
        "lst0.next = Node(2)\n",
        "lst0.next.next = Node(2)\n",
        "lst0.next.next.next = Node(1)\n",
        "\n",
        "lst1 = Node(12)\n",
        "lst1.next = Node(2)\n",
        "lst1.next.next = Node(1)\n",
        "\n",
        "lst2 = Node(1)\n",
        "lst2.next = Node(22)\n",
        "lst2.next.next = Node(1)\n",
        "\n",
        "lst3 = Node(1)\n",
        "lst3.next = Node(2)\n",
        "lst3.next.next = Node(21)\n",
        "\n",
        "# Sample output\n",
        "print(\"lst0: \", end=\"\")\n",
        "curr = lst0\n",
        "while curr:\n",
        "    print(curr.val, end=\"->\")\n",
        "    curr = curr.next\n",
        "print(\"None\")\n",
        "\n",
        "print(\"lst1: \", end=\"\")\n",
        "curr = lst1\n",
        "while curr:\n",
        "    print(curr.val, end=\"->\")\n",
        "    curr = curr.next\n",
        "print(\"None\")\n",
        "\n",
        "print(\"lst2: \", end=\"\")\n",
        "curr = lst2\n",
        "while curr:\n",
        "    print(curr.val, end=\"->\")\n",
        "    curr = curr.next\n",
        "print(\"None\")\n",
        "\n",
        "print(\"lst3: \", end=\"\")\n",
        "curr = lst3\n",
        "while curr:\n",
        "    print(curr.val, end=\"->\")\n",
        "    curr = curr.next\n",
        "print(\"None\")\n",
        "\n",
        "print(\"char_lst0: \", end=\"\")\n",
        "char_lst0 = convert_to_char_list(lst0)\n",
        "curr = char_lst0\n",
        "while curr:\n",
        "    print(curr.val, end=\"->\")\n",
        "    curr = curr.next\n",
        "print(\"None\")\n",
        "\n",
        "print(\"char_lst1: \", end=\"\")\n",
        "char_lst1 = convert_to_char_list(lst1)\n",
        "curr = char_lst1\n",
        "while curr:\n",
        "    print(curr.val, end=\"->\")\n",
        "    curr = curr.next\n",
        "print(\"None\")\n",
        "\n",
        "print(\"char_lst2: \", end=\"\")\n",
        "char_lst2 = convert_to_char_list(lst2)\n",
        "curr = char_lst2\n",
        "while curr:\n",
        "    print(curr.val, end=\"->\")\n",
        "    curr = curr.next\n",
        "print(\"None\")\n",
        "\n",
        "print(\"char_lst3: \", end=\"\")\n",
        "char_lst3 = convert_to_char_list(lst3)\n",
        "curr = char_lst3\n",
        "while curr:\n",
        "    print(curr.val, end=\"->\")\n",
        "    curr = curr.next\n",
        "print(\"None\")\n"
      ]
    },
    {
      "cell_type": "code",
      "source": [
        "#Q.No.3\n",
        "def partition_equal_sum(arr):\n",
        "    total_sum = sum(arr)\n",
        "    if total_sum % 2 != 0:\n",
        "        return None\n",
        "    \n",
        "    target_sum = total_sum // 2\n",
        "    n = len(arr)\n",
        "    \n",
        "    def backtrack(start, current_sum, subset):\n",
        "        if current_sum == target_sum:\n",
        "            return subset\n",
        "        if current_sum > target_sum or start == n:\n",
        "            return None\n",
        "        \n",
        "        # Try adding the current element to the subset\n",
        "        subset.append(arr[start])\n",
        "        res = backtrack(start + 1, current_sum + arr[start], subset)\n",
        "        if res:\n",
        "            return res\n",
        "        \n",
        "        # If the current element didn't work, remove it from the subset and try without it\n",
        "        subset.pop()\n",
        "        return backtrack(start + 1, current_sum, subset)\n",
        "    \n",
        "    # Start the recursion from the beginning of the array\n",
        "    subset1 = backtrack(0, 0, [])\n",
        "    if subset1 is None:\n",
        "        return None\n",
        "    subset2 = list(set(arr) - set(subset1))\n",
        "    return subset1, subset2\n",
        "arr = [1, 3, 2, 1, 2, 1]\n",
        "result = partition_equal_sum(arr)\n",
        "if result:\n",
        "    print(\"Partition found: \")\n",
        "    print(result)\n",
        "else:\n",
        "    print(\"No partition found.\")\n"
      ],
      "metadata": {
        "id": "SBQfXDzXChOU"
      },
      "execution_count": null,
      "outputs": []
    },
    {
      "cell_type": "code",
      "source": [
        "#Q.No.4\n",
        "def max_expression_value(a):\n",
        "    n = len(a)\n",
        "    max_val = float('-inf') # start with negative infinity as the maximum value\n",
        "    \n",
        "    # loop through all possible combinations of u, v, w, and x\n",
        "    for u in range(n):\n",
        "        for v in range(u):\n",
        "            for w in range(v):\n",
        "                for x in range(w):\n",
        "                    val = a[u] - a[v] + a[w] - a[x]\n",
        "                    if val > max_val:\n",
        "                        max_val = val\n",
        "    \n",
        "    return max_val\n",
        "\n",
        "a = [3, 9, 10, 1, 30, 40]\n",
        "max_val = max_expression_value(a)\n",
        "print(max_val)\n",
        "\n"
      ],
      "metadata": {
        "id": "ppe8zkdcwsry",
        "colab": {
          "base_uri": "https://localhost:8080/"
        },
        "outputId": "948dfd47-b431-4494-948c-67fc59598ef6"
      },
      "execution_count": null,
      "outputs": [
        {
          "output_type": "stream",
          "name": "stdout",
          "text": [
            "46\n"
          ]
        }
      ]
    },
    {
      "cell_type": "code",
      "source": [
        "#Q.No.5\n",
        "def print_sequences_helper(arr, elem, n):\n",
        "    if elem > n:\n",
        "        print(arr)\n",
        "        return\n",
        "    \n",
        "    for i in range(0, 2 * n):\n",
        "        if arr[i] == -1 and (i + elem + 1) < 2*n and arr[i + elem + 1] == -1:\n",
        "            arr[i] = elem\n",
        "            arr[i + elem + 1] = elem\n",
        "            print_sequences_helper(arr, elem + 1, n)\n",
        "            arr[i] = -1\n",
        "            arr[i + elem + 1] = -1\n",
        "            \n",
        "def print_sequences(n):\n",
        "    arr = [-1] * (2 * n)\n",
        "    print_sequences_helper(arr, 1, n)\n",
        "    \n",
        "n = int(input(\"Enter a positive number: \"))\n",
        "print_sequences(n)\n"
      ],
      "metadata": {
        "id": "ca6QAwluFjwP",
        "colab": {
          "base_uri": "https://localhost:8080/"
        },
        "outputId": "14627fd5-7faf-423c-aa1d-69880e7f2afd"
      },
      "execution_count": 2,
      "outputs": [
        {
          "output_type": "stream",
          "name": "stdout",
          "text": [
            "Enter a positive number: 4\n",
            "[4, 1, 3, 1, 2, 4, 3, 2]\n",
            "[2, 3, 4, 2, 1, 3, 1, 4]\n"
          ]
        }
      ]
    }
  ]
}