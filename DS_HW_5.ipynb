{
  "nbformat": 4,
  "nbformat_minor": 0,
  "metadata": {
    "colab": {
      "provenance": [],
      "authorship_tag": "ABX9TyNNkkTolBUr8WBk1KAPY63X",
      "include_colab_link": true
    },
    "kernelspec": {
      "name": "python3",
      "display_name": "Python 3"
    },
    "language_info": {
      "name": "python"
    }
  },
  "cells": [
    {
      "cell_type": "markdown",
      "metadata": {
        "id": "view-in-github",
        "colab_type": "text"
      },
      "source": [
        "<a href=\"https://colab.research.google.com/github/ronish645/Data-S-ronish/blob/main/DS_HW_5.ipynb\" target=\"_parent\"><img src=\"https://colab.research.google.com/assets/colab-badge.svg\" alt=\"Open In Colab\"/></a>"
      ]
    },
    {
      "cell_type": "code",
      "source": [
        "#Q.no.1\n",
        "def srt(stk):\n",
        "    temp_stk = []\n",
        "\n",
        "    while stk:\n",
        "        # Pop the top element from the main stack\n",
        "        current_char = stk.pop()\n",
        "\n",
        "        # Compare the current character with the top element of the temporary stack\n",
        "        # and push back the larger character to the main stack\n",
        "        while temp_stk and temp_stk[-1] > current_char:\n",
        "            stk.append(temp_stk.pop())\n",
        "\n",
        "        # Push the current character to the temporary stack\n",
        "        temp_stk.append(current_char)\n",
        "\n",
        "    # Move the sorted characters back to the main stack\n",
        "    while temp_stk:\n",
        "        stk.append(temp_stk.pop())\n",
        "\n",
        "    return stk\n",
        "\n",
        "# Example usage\n",
        "stk = ['t', 'r', 'o', 's']\n",
        "srt(stk)\n",
        "print(stk)  # Output: ['t','s','r','o']"
      ],
      "metadata": {
        "colab": {
          "base_uri": "https://localhost:8080/"
        },
        "id": "DMtB2xN4QZgY",
        "outputId": "736aad78-8000-4315-e5f9-87bcdfa43423"
      },
      "execution_count": 8,
      "outputs": [
        {
          "output_type": "stream",
          "name": "stdout",
          "text": [
            "['t', 's', 'r', 'o']\n"
          ]
        }
      ]
    },
    {
      "cell_type": "code",
      "execution_count": 6,
      "metadata": {
        "colab": {
          "base_uri": "https://localhost:8080/"
        },
        "id": "TrGTUSUDulpp",
        "outputId": "224ea6fe-fcb8-4cd6-ab8a-d4388f934dc9"
      },
      "outputs": [
        {
          "output_type": "stream",
          "name": "stdout",
          "text": [
            "5->10, 3->10, 2->10, 10->12, 6->8, 8->12, 1->4, 4->12, 12->none, 7->none, 4->none, \n"
          ]
        }
      ],
      "source": [
        "#Q.no.2\n",
        "def next_bigger_values(stk):\n",
        "    result = []\n",
        "    temp_stk = []\n",
        "\n",
        "    while stk:\n",
        "        current_val = stk.pop()\n",
        "\n",
        "        # Pop elements from temp_stk while they are smaller than the current value\n",
        "        while temp_stk and temp_stk[-1] <= current_val:\n",
        "            temp_stk.pop()\n",
        "\n",
        "        # If temp_stk is not empty, then the next bigger value for the current value is the top element of temp_stk\n",
        "        if temp_stk:\n",
        "            result.append((current_val, temp_stk[-1]))\n",
        "        else:\n",
        "            result.append((current_val, None))\n",
        "\n",
        "        # Push the current value to the temp_stk\n",
        "        temp_stk.append(current_val)\n",
        "\n",
        "    # Reverse the result to maintain the original order of the elements\n",
        "    result.reverse()\n",
        "\n",
        "    # Print the result in the desired format\n",
        "    for pair in result:\n",
        "        if pair[1] is not None:\n",
        "            print(f\"{pair[0]}->{pair[1]}, \", end=\"\")\n",
        "        else:\n",
        "            print(f\"{pair[0]}->none, \", end=\"\")\n",
        "    print()\n",
        "\n",
        "# Example usage\n",
        "stk = [5, 3, 2, 10, 6, 8, 1, 4, 12, 7, 4]\n",
        "next_bigger_values(stk)\n",
        "# Output: 5->10, 3->10, 2->10, 10->12, 6->8, 8->12, 1->4, 4->12, 12->none, 7->none, 4->none,"
      ]
    },
    {
      "cell_type": "code",
      "source": [
        "#Q.no.3\n",
        "def find_consecutive_pairs(stack):\n",
        "    pairs = []\n",
        "    for i in range(len(stack) - 1):\n",
        "        if stack[i] == stack[i+1] - 1 or stack[i] == stack[i+1] + 1:\n",
        "            pairs.append((stack[i], stack[i+1]))\n",
        "    if pairs:\n",
        "        print(\"Consecutive pairs found:\")\n",
        "        for pair in pairs:\n",
        "            print(pair)\n",
        "    else:\n",
        "        print(\"No consecutive pairs found.\")\n",
        "stack1 = [6,5,10,11,-3,-2,5,4]\n",
        "find_consecutive_pairs(stack1)\n",
        "\n",
        "stack2 = [3,4,7,6,6,4]\n",
        "find_consecutive_pairs(stack2)\n"
      ],
      "metadata": {
        "id": "4Q05JGJKurD_",
        "colab": {
          "base_uri": "https://localhost:8080/"
        },
        "outputId": "44e5ea4f-8afc-485e-883b-d1738bf9c04e"
      },
      "execution_count": 9,
      "outputs": [
        {
          "output_type": "stream",
          "name": "stdout",
          "text": [
            "Consecutive pairs found:\n",
            "(6, 5)\n",
            "(10, 11)\n",
            "(-3, -2)\n",
            "(5, 4)\n",
            "Consecutive pairs found:\n",
            "(3, 4)\n",
            "(7, 6)\n"
          ]
        }
      ]
    },
    {
      "cell_type": "code",
      "source": [
        "#Q.no.4\n",
        "def rewrite_expression(expression):\n",
        "    stk = []\n",
        "    result = \"\"\n",
        "\n",
        "    for char in expression:\n",
        "        if char == '(':\n",
        "            if result and result[-1] in '+-':\n",
        "                stk.append(result[-1])\n",
        "            else:\n",
        "                stk.append('+')\n",
        "        elif char == ')':\n",
        "            if stk:\n",
        "                stk.pop()\n",
        "        elif char in '+-':\n",
        "            if stk:\n",
        "                prev_sign = stk[-1]\n",
        "                if prev_sign == '-':\n",
        "                    result += '-' if char == '+' else '+'\n",
        "                else:\n",
        "                    result += char\n",
        "            else:\n",
        "                result += char\n",
        "        else:\n",
        "            result += char\n",
        "\n",
        "    return result\n",
        "\n",
        "# Example usage\n",
        "expression1 = \"x-(y+z)\"\n",
        "expression2 = \"x-(y-z-(u+v))-w\"\n",
        "rewritten_expression1 = rewrite_expression(expression1)\n",
        "rewritten_expression2 = rewrite_expression(expression2)\n",
        "\n",
        "print(rewritten_expression1)  # Output: x-y-z\n",
        "print(rewritten_expression2)  # Output: x-y+z+u+v-w\n"
      ],
      "metadata": {
        "colab": {
          "base_uri": "https://localhost:8080/"
        },
        "id": "5KiMu16nvfqZ",
        "outputId": "bafdeda1-ba02-4a16-ec48-2754de56afed"
      },
      "execution_count": 7,
      "outputs": [
        {
          "output_type": "stream",
          "name": "stdout",
          "text": [
            "x-y-z\n",
            "x-y+z+u+v-w\n"
          ]
        }
      ]
    }
  ]
}