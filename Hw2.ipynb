{
  "nbformat": 4,
  "nbformat_minor": 0,
  "metadata": {
    "colab": {
      "provenance": [],
      "authorship_tag": "ABX9TyNSYW9yoSvB7Fbixi9HaW4x",
      "include_colab_link": true
    },
    "kernelspec": {
      "name": "python3",
      "display_name": "Python 3"
    },
    "language_info": {
      "name": "python"
    }
  },
  "cells": [
    {
      "cell_type": "markdown",
      "metadata": {
        "id": "view-in-github",
        "colab_type": "text"
      },
      "source": [
        "<a href=\"https://colab.research.google.com/github/ronish645/Data-S-ronish/blob/main/Hw2.ipynb\" target=\"_parent\"><img src=\"https://colab.research.google.com/assets/colab-badge.svg\" alt=\"Open In Colab\"/></a>"
      ]
    },
    {
      "cell_type": "code",
      "execution_count": 15,
      "metadata": {
        "colab": {
          "base_uri": "https://localhost:8080/"
        },
        "id": "ihymzLQO4JJb",
        "outputId": "c8c1c6af-0296-4241-c5c3-c3f166ddf28f"
      },
      "outputs": [
        {
          "output_type": "stream",
          "name": "stdout",
          "text": [
            "Head->A->A->C->D->G\n"
          ]
        }
      ],
      "source": [
        "#Q.No.1\n",
        "class Node:\n",
        "    def __init__(self, data):\n",
        "        self.data = data\n",
        "        self.next = None\n",
        "\n",
        "def srt_LL(llist):\n",
        "    # Split the string by '->' separator and create a linked list\n",
        "    nodes = llist.split(\"->\")\n",
        "    head = None\n",
        "    for node in nodes[1:]:\n",
        "        if not head:\n",
        "            head = Node(node)\n",
        "            current = head\n",
        "        else:\n",
        "            current.next = Node(node)\n",
        "            current = current.next\n",
        "\n",
        "    # Sort the linked list\n",
        "    sorted_list = None\n",
        "    current = head\n",
        "    while current:\n",
        "        next_node = current.next\n",
        "        if not sorted_list or current.data < sorted_list.data:\n",
        "            current.next = sorted_list\n",
        "            sorted_list = current\n",
        "        else:\n",
        "            sorted_current = sorted_list\n",
        "            while sorted_current.next and sorted_current.next.data < current.data:\n",
        "                sorted_current = sorted_current.next\n",
        "            current.next = sorted_current.next\n",
        "            sorted_current.next = current\n",
        "        current = next_node\n",
        "\n",
        "    # Return the sorted linked list as a string\n",
        "    result = \"Head->\"\n",
        "    current = sorted_list\n",
        "    while current:\n",
        "        result += current.data + \"->\"\n",
        "        current = current.next\n",
        "    result += \"NULL\"\n",
        "    return result\n",
        "\n",
        "# Call the function with an example input\n",
        "ls = \"Head->D->A->C->A->G->NULL\"\n",
        "sorted_ll = srt_LL(ls)\n",
        "# remove the second occurrence of '->NULL'\n",
        "sorted_ll = sorted_ll.replace('->NULL', '')\n",
        "print(sorted_ll)\n"
      ]
    },
    {
      "cell_type": "code",
      "source": [
        "#Q.No.2\n",
        "class Node:\n",
        "    def __init__(self, val=0, next=None):\n",
        "        self.val = val\n",
        "        self.next = next\n",
        "\n",
        "def LL_add(u, v):\n",
        "    # Reverse the linked lists\n",
        "    u = reverse_list(u)\n",
        "    v = reverse_list(v)\n",
        "\n",
        "    # Traverse the linked lists and extract the digits\n",
        "    num_u = 0\n",
        "    multiplier = 1\n",
        "    while u:\n",
        "        num_u += u.val * multiplier\n",
        "        multiplier *= 10\n",
        "        u = u.next\n",
        "    \n",
        "    num_v = 0\n",
        "    multiplier = 1\n",
        "    while v:\n",
        "        num_v += v.val * multiplier\n",
        "        multiplier *= 10\n",
        "        v = v.next\n",
        "\n",
        "    # Add the numbers and create a new linked list\n",
        "    result = num_u + num_v\n",
        "    if result == 0:\n",
        "        return Node(0)\n",
        "    head = None\n",
        "    while result:\n",
        "        digit = result % 10\n",
        "        result //= 10\n",
        "        head = Node(digit, head)\n",
        "        \n",
        "    return head\n",
        "\n",
        "def reverse_list(head):\n",
        "    prev = None\n",
        "    curr = head\n",
        "    while curr:\n",
        "        next_node = curr.next\n",
        "        curr.next = prev\n",
        "        prev = curr\n",
        "        curr = next_node\n",
        "    return prev\n",
        "# Sample input\n",
        "u = Node(1, Node(2, Node(3, Node(4))))\n",
        "v = Node(5, Node(6, Node(7, Node(8))))\n",
        "\n",
        "# Call LL_add and print the output\n",
        "result = LL_add(u, v)\n",
        "while result:\n",
        "    print(result.val, end=\"->\")\n",
        "    result = result.next\n"
      ],
      "metadata": {
        "colab": {
          "base_uri": "https://localhost:8080/"
        },
        "id": "AECFOU-6g_NS",
        "outputId": "218018e9-0fff-4b77-9e1e-dade154a2e46"
      },
      "execution_count": 6,
      "outputs": [
        {
          "output_type": "stream",
          "name": "stdout",
          "text": [
            "6->9->1->2->"
          ]
        }
      ]
    },
    {
      "cell_type": "code",
      "source": [
        "#Q.No.3\n",
        "class Node:\n",
        "    def __init__(self, data):\n",
        "        self.data = data\n",
        "        self.next = None\n",
        "\n",
        "def get_monkey_king(n, m):\n",
        "    # create a circular linked list with n nodes\n",
        "    head = Node(0)\n",
        "    prev = head\n",
        "    for i in range(1, n):\n",
        "        curr = Node(i)\n",
        "        prev.next = curr\n",
        "        prev = curr\n",
        "    prev.next = head\n",
        "\n",
        "    # eliminate monkeys one by one until there's only one left\n",
        "    curr = head\n",
        "    while curr.next != curr:\n",
        "        # find the m-th monkey from the current position\n",
        "        for i in range(m - 2):\n",
        "            curr = curr.next\n",
        "        # eliminate the next monkey\n",
        "        curr.next = curr.next.next\n",
        "        curr = curr.next\n",
        "\n",
        "    # return the index of the monkey king (0-based)\n",
        "    return curr.data\n",
        "\n",
        "# take input from the user\n",
        "n = int(input(\"Enter total number of monkeys in a group: \"))\n",
        "m = int(input(\"Enter m value: \"))\n",
        "\n",
        "# get the monkey king and print the result\n",
        "monkey_king = get_monkey_king(n, m)\n",
        "print(\"The king will be\", monkey_king)\n"
      ],
      "metadata": {
        "colab": {
          "base_uri": "https://localhost:8080/"
        },
        "id": "IUEktDkk4NCU",
        "outputId": "dbd003f8-9dee-40ed-aa44-74d4b743e538"
      },
      "execution_count": 9,
      "outputs": [
        {
          "output_type": "stream",
          "name": "stdout",
          "text": [
            "Enter total number of monkeys in a group: 8\n",
            "Enter m value: 3\n",
            "The king will be 6\n"
          ]
        }
      ]
    },
    {
      "cell_type": "code",
      "source": [
        "#Q.No.4\n",
        "class Node:\n",
        "    def __init__(self, data):\n",
        "        self.data = data\n",
        "        self.next = None\n",
        "\n",
        "def commElem(l, m):\n",
        "    # create a dictionary to count the characters in the first list\n",
        "    dict_l = {}\n",
        "    curr = l.next\n",
        "    while curr is not None:\n",
        "        if curr.data in dict_l:\n",
        "            dict_l[curr.data] += 1\n",
        "        else:\n",
        "            dict_l[curr.data] = 1\n",
        "        curr = curr.next\n",
        "    \n",
        "    # create a new linked list containing the common characters\n",
        "    head = Node(\"Head\")\n",
        "    prev = head\n",
        "    curr = m.next\n",
        "    while curr is not None:\n",
        "        if curr.data in dict_l and dict_l[curr.data] > 0:\n",
        "            new_node = Node(curr.data)\n",
        "            prev.next = new_node\n",
        "            prev = new_node\n",
        "            dict_l[curr.data] -= 1\n",
        "        curr = curr.next\n",
        "    \n",
        "    # return the new linked list\n",
        "    return head\n",
        "\n",
        "# create the first linked list\n",
        "l = Node(\"Head\")\n",
        "curr = l\n",
        "for c in \"GOOD\":\n",
        "    new_node = Node(c)\n",
        "    curr.next = new_node\n",
        "    curr = new_node\n",
        "\n",
        "# create the second linked list\n",
        "m = Node(\"Head\")\n",
        "curr = m\n",
        "for c in \"GoOgLEx\":\n",
        "    new_node = Node(c)\n",
        "    curr.next = new_node\n",
        "    curr = new_node\n",
        "\n",
        "# find the common characters and create a new linked list\n",
        "new_list = commElem(l, m)\n",
        "\n",
        "# print the new linked list\n",
        "curr = new_list.next\n",
        "while curr is not None:\n",
        "    print(curr.data, end=\"->\")\n",
        "    curr = curr.next\n",
        "print(\"NULL\")\n"
      ],
      "metadata": {
        "colab": {
          "base_uri": "https://localhost:8080/"
        },
        "id": "PyillU2F7-uN",
        "outputId": "d5d2b282-d953-4cf9-8fe7-2ec9cdb88f98"
      },
      "execution_count": 12,
      "outputs": [
        {
          "output_type": "stream",
          "name": "stdout",
          "text": [
            "G->O->NULL\n"
          ]
        }
      ]
    },
    {
      "cell_type": "code",
      "source": [
        "#Q.No.5\n",
        "class Node:\n",
        "    def __init__(self, data=None):\n",
        "        self.data = data\n",
        "        self.next = None\n",
        "\n",
        "def diffElem_LL(l, m):\n",
        "    # Create a dictionary to store the frequency of characters in the second linked list\n",
        "    freq = {}\n",
        "    curr = m.next\n",
        "    while curr is not None:\n",
        "        if curr.data in freq:\n",
        "            freq[curr.data] += 1\n",
        "        else:\n",
        "            freq[curr.data] = 1\n",
        "        curr = curr.next\n",
        "\n",
        "    # Traverse the first linked list and add the characters that are not in the second list to a new linked list\n",
        "    result = Node(\"Head\")\n",
        "    tail = result\n",
        "    curr = l.next\n",
        "    while curr is not None:\n",
        "        if curr.data not in freq:\n",
        "            tail.next = Node(curr.data)\n",
        "            tail = tail.next\n",
        "        curr = curr.next\n",
        "\n",
        "    return result\n",
        "l = Node(\"Head\")\n",
        "l.next = Node(\"D\")\n",
        "l.next.next = Node(\"o\")\n",
        "l.next.next.next = Node(\"g\")\n",
        "l.next.next.next.next = Node(\"L\")\n",
        "l.next.next.next.next.next = Node(\"E\")\n",
        "l.next.next.next.next.next.next = None\n",
        "\n",
        "m = Node(\"Head\")\n",
        "m.next = Node(\"o\")\n",
        "m.next.next = Node(\"L\")\n",
        "m.next.next.next = Node(\"p\")\n",
        "m.next.next.next.next = Node(\"u\")\n",
        "m.next.next.next.next.next = None\n",
        "\n",
        "result = diffElem_LL(l, m)\n",
        "\n",
        "# Print the resulting linked list\n",
        "curr = result.next\n",
        "while curr is not None:\n",
        "    print(curr.data, end=\"->\")\n",
        "    curr = curr.next\n",
        "\n",
        "# Output: Head->D->g->E->\n"
      ],
      "metadata": {
        "id": "uROXLANB89hs",
        "colab": {
          "base_uri": "https://localhost:8080/"
        },
        "outputId": "84cb0cfd-d886-4dde-a3bc-b3238da03551"
      },
      "execution_count": 8,
      "outputs": [
        {
          "output_type": "stream",
          "name": "stdout",
          "text": [
            "D->g->E->"
          ]
        }
      ]
    },
    {
      "cell_type": "code",
      "source": [
        "#Q.No.6\n",
        "class Node:\n",
        "    def __init__(self, data=None):\n",
        "        self.data = data\n",
        "        self.next = None\n",
        "\n",
        "def is_loopLL(a):\n",
        "    # Initialize two pointers, one moving twice as fast as the other\n",
        "    slow_ptr = a\n",
        "    fast_ptr = a\n",
        "\n",
        "    # Traverse the linked list until either the end is reached or a loop is detected\n",
        "    while fast_ptr is not None and fast_ptr.next is not None:\n",
        "        slow_ptr = slow_ptr.next\n",
        "        fast_ptr = fast_ptr.next.next\n",
        "\n",
        "        # If the two pointers meet, a loop exists in the linked list\n",
        "        if slow_ptr == fast_ptr:\n",
        "            return True\n",
        "\n",
        "    # If the end of the linked list is reached without detecting a loop, a loop does not exist\n",
        "    return False\n",
        "a = Node(1)\n",
        "a.next = Node(2)\n",
        "a.next.next = Node(3)\n",
        "a.next.next.next = Node(4)\n",
        "a.next.next.next.next = a.next  # Create an internal loop by pointing the last node to the second node\n",
        "\n",
        "print(is_loopLL(a))  # Output: True\n"
      ],
      "metadata": {
        "id": "_LdFPKFzn7ar"
      },
      "execution_count": null,
      "outputs": []
    },
    {
      "cell_type": "code",
      "source": [
        "#Q.No.7\n",
        "class Node:\n",
        "    def __init__(self, coeff=0, exp=0, next=None):\n",
        "        self.coeff = coeff\n",
        "        self.exp = exp\n",
        "        self.next = next\n",
        "        \n",
        "def conv_LL(l, m):\n",
        "    # Initialize the result linked list\n",
        "    result = Node(0, 0)\n",
        "    ptr = result\n",
        "    \n",
        "    # Iterate over each term in the first polynomial\n",
        "    p = l\n",
        "    while p:\n",
        "        # Multiply the current term with every term in the second polynomial\n",
        "        q = m\n",
        "        while q:\n",
        "            # Multiply the coefficients and add the exponents\n",
        "            coeff = p.coeff * q.coeff\n",
        "            exp = p.exp + q.exp\n",
        "            \n",
        "            # Add the resulting term to the result linked list\n",
        "            # If a term with the same exponent already exists, add their coefficients\n",
        "            # Otherwise, create a new node for the term\n",
        "            r = result\n",
        "            while r.next and r.next.exp > exp:\n",
        "                r = r.next\n",
        "            if r.next and r.next.exp == exp:\n",
        "                r.next.coeff += coeff\n",
        "            else:\n",
        "                r.next = Node(coeff, exp, r.next)\n",
        "                \n",
        "            q = q.next\n",
        "        p = p.next\n",
        "    \n",
        "    # Remove any zero coefficient terms from the result\n",
        "    prev = None\n",
        "    curr = result.next\n",
        "    while curr:\n",
        "        if curr.coeff == 0:\n",
        "            if prev:\n",
        "                prev.next = curr.next\n",
        "            curr = curr.next\n",
        "        else:\n",
        "            prev = curr\n",
        "            curr = curr.next\n",
        "    \n",
        "    # Return the result linked list\n",
        "    return result.next\n",
        "# Create the linked lists for the polynomials\n",
        "l = Node(1, 0, Node(2, 2, Node(3, 3, Node(4, 5))))\n",
        "m = Node(5, 0, Node(6, 1, Node(7, 3, Node(8, 4))))\n",
        "\n",
        "# Multiply the polynomials and print the result\n",
        "result = conv_LL(l, m)\n",
        "while result:\n",
        "    print(f\"{result.coeff}x^{result.exp}\", end=\" \")\n",
        "    result = result.next\n"
      ],
      "metadata": {
        "colab": {
          "base_uri": "https://localhost:8080/"
        },
        "id": "_qAFgVr7oSOc",
        "outputId": "18720c5c-3a27-47d5-ad12-a91084870021"
      },
      "execution_count": 16,
      "outputs": [
        {
          "output_type": "stream",
          "name": "stdout",
          "text": [
            "32x^9 28x^8 24x^7 61x^6 34x^5 26x^4 34x^3 10x^2 6x^1 5x^0 "
          ]
        }
      ]
    }
  ]
}