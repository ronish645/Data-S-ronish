{
  "nbformat": 4,
  "nbformat_minor": 0,
  "metadata": {
    "colab": {
      "provenance": [],
      "authorship_tag": "ABX9TyN3d2UHwdvNT5oIaK4oLRoK",
      "include_colab_link": true
    },
    "kernelspec": {
      "name": "python3",
      "display_name": "Python 3"
    },
    "language_info": {
      "name": "python"
    }
  },
  "cells": [
    {
      "cell_type": "markdown",
      "metadata": {
        "id": "view-in-github",
        "colab_type": "text"
      },
      "source": [
        "<a href=\"https://colab.research.google.com/github/ronish645/Data-S-ronish/blob/main/Hw1ronish.ipynb\" target=\"_parent\"><img src=\"https://colab.research.google.com/assets/colab-badge.svg\" alt=\"Open In Colab\"/></a>"
      ]
    },
    {
      "cell_type": "code",
      "execution_count": 21,
      "metadata": {
        "colab": {
          "base_uri": "https://localhost:8080/"
        },
        "id": "t2oe3S-GGi0d",
        "outputId": "522d8e3b-2838-4e7d-e37a-e9db97001aa6"
      },
      "outputs": [
        {
          "output_type": "stream",
          "name": "stdout",
          "text": [
            "HEAD->2->3->NULL\n"
          ]
        }
      ],
      "source": [
        "#Solution 1:\n",
        "# Define the Node class with data and next attributes\n",
        "class Node:\n",
        "    def __init__(self, data=0, next=None):\n",
        "        self.data = data # each node will have a data value\n",
        "        self.next = next # each node will have a reference to the next node\n",
        "\n",
        "# Define the function to delete a node with a certain key\n",
        "def Delete_LinkList_Node(head, key):\n",
        "    # Create a dummy node with value 0 and next pointing to the original head\n",
        "    dummy = Node(0)\n",
        "    dummy.next = head\n",
        "    \n",
        "    # Initialize the prev and curr nodes with the dummy node and head respectively\n",
        "    prev = dummy\n",
        "    curr = head\n",
        "    \n",
        "    # Traverse the linked list\n",
        "    while curr:\n",
        "        # If the current node's data is equal to the key, skip the current node\n",
        "        if curr.data == key:\n",
        "            prev.next = curr.next\n",
        "        else:\n",
        "            prev = curr # move the prev node to the current node\n",
        "        curr = curr.next # move the curr node to the next node\n",
        "    \n",
        "    # Return the next node of the dummy node\n",
        "    return dummy.next\n",
        "\n",
        "# Define the linked list with values in each node\n",
        "head = Node(1)\n",
        "head.next = Node(2)\n",
        "head.next.next = Node(1)\n",
        "head.next.next.next = Node(3)\n",
        "\n",
        "# Call the delete function to delete the node with key value 1\n",
        "new_head = Delete_LinkList_Node(head, 1)\n",
        "\n",
        "# Print all nodes after removing the node with key value 1\n",
        "print(\"HEAD->\", end=\"\")\n",
        "curr = new_head # set curr to the modified linked list head\n",
        "while curr:\n",
        "    print(curr.data, end=\"->\") # print the current node's data and \"->\"\n",
        "    curr = curr.next # move curr to the next node\n",
        "print(\"NULL\")\n"
      ]
    },
    {
      "cell_type": "code",
      "source": [
        " #Solution 2:\n",
        "class Node:\n",
        "    def __init__(self, data):\n",
        "        self.data = data   # data stored in the node\n",
        "        self.next = None   # reference to the next node\n",
        "\n",
        "class LinkedList:\n",
        "    def __init__(self):\n",
        "        self.head = Node(None)  # dummy node with None data\n",
        "        \n",
        "    def Delete_Dupl_Node(self):\n",
        "        # if linked list is empty or only has one node, return\n",
        "        if self.head is None or self.head.next is None:  \n",
        "            return\n",
        "        \n",
        "        curr = self.head.next \n",
        "        \n",
        "        # loop through the linked list to remove duplicates\n",
        "        while curr:\n",
        "            runner = curr\n",
        "            while runner.next:     # keep moving runner forward while runner.next exists\n",
        "                # if runner.next node has same data as curr node\n",
        "                if runner.next.data == curr.data:  \n",
        "                    # remove runner.next node by making runner.next equal to runner.next.next\n",
        "                    runner.next = runner.next.next  \n",
        "                else:\n",
        "                    runner = runner.next  # move runner forward if runner.next data is not equal to curr.data\n",
        "            curr = curr.next  # move curr forward\n",
        "\n",
        "# create a linked list and add a node with data 3 after the dummy node\n",
        "a = LinkedList()\n",
        "a.head.next = Node(3)  \n",
        "\n",
        "a.Delete_Dupl_Node()  \n",
        "\n",
        "# start at the first actual node after the dummy node\n",
        "curr = a.head.next  \n",
        "\n",
        "# result string to store the data of nodes\n",
        "result = \"Head->\"  \n",
        "\n",
        "# loop through the linked list to add data to result string\n",
        "while curr:\n",
        "    result += str(curr.data) + \"->\"  # add the data of curr node to the result string\n",
        "    curr = curr.next  # move curr forward\n",
        "\n",
        "# add NULL to the end of result string\n",
        "result += \"NULL\"  \n",
        "\n",
        "# print the result string\n",
        "print(result) \n"
      ],
      "metadata": {
        "colab": {
          "base_uri": "https://localhost:8080/"
        },
        "id": "gG_Tnzx2GqEn",
        "outputId": "b58d256b-3ac9-455e-f116-91f1ca8e3368"
      },
      "execution_count": 26,
      "outputs": [
        {
          "output_type": "stream",
          "name": "stdout",
          "text": [
            "Head->3->NULL\n"
          ]
        }
      ]
    },
    {
      "cell_type": "code",
      "source": [
        "  #Solution 3:\n",
        "class Node:\n",
        "    def __init__(self, data):\n",
        "        self.data = data  \n",
        "        self.next = None  \n",
        "\n",
        "# Define a LinkedList class with one property: head\n",
        "class LinkedList:\n",
        "    def __init__(self):\n",
        "        self.head = Node(None) # The head node is a dummy node with no data\n",
        "        \n",
        "    # Define a function to delete duplicates in the linked list\n",
        "    def Delete_Dupl_Node(self):\n",
        "        # If there is no node, return\n",
        "        if self.head is None:  \n",
        "            return\n",
        "        \n",
        "        curr = self.head.next                      \n",
        "        while curr:\n",
        "            runner = curr\n",
        "            # Check if runner.next node has the same data as curr node\n",
        "            while runner.next: \n",
        "                if runner.next.data == curr.data:\n",
        "                    # Remove runner.next node by making runner.next equal to runner.next.next\n",
        "                    runner.next = runner.next.next \n",
        "                else:\n",
        "                    # Move runner forward if runner.next data is not equal to curr.data\n",
        "                    runner = runner.next           \n",
        "            # Move curr forward\n",
        "            curr = curr.next                       \n",
        "\n",
        "# Create a LinkedList object\n",
        "a = LinkedList()  \n",
        "\n",
        "# Create node data  \n",
        "a.head.next = Node(1)  \n",
        "node2 = Node(2)  \n",
        "node3 = Node(1) \n",
        "node4 = Node(3)  \n",
        "node5 = Node(2)  \n",
        "\n",
        "# Connect nodes after node \n",
        "a.head.next.next = node2 \n",
        "node2.next = node3 \n",
        "node3.next = node4  \n",
        "node4.next = node5  \n",
        "\n",
        "# Call the function to remove duplicates in the linked list\n",
        "a.Delete_Dupl_Node()                                  \n",
        "\n",
        "# Start at the first actual node after the dummy node\n",
        "curr = a.head.next                                    \n",
        "# Initialize the result string with \"Head->\"\n",
        "result = \"Head->\"  \n",
        "# Traverse the linked list\n",
        "while curr:\n",
        "    result += str(curr.data) + \"->\"  \n",
        "    curr = curr.next  \n",
        "# Add \"NULL\" to the end of the result string\n",
        "result += \"NULL\"  \n",
        "# Print the result\n",
        "print(result)  \n"
      ],
      "metadata": {
        "colab": {
          "base_uri": "https://localhost:8080/"
        },
        "id": "aixr6vocG2Op",
        "outputId": "e9e420f1-3321-47cd-aeaf-77db14901cb0"
      },
      "execution_count": 27,
      "outputs": [
        {
          "output_type": "stream",
          "name": "stdout",
          "text": [
            "Head->1->2->3->NULL\n"
          ]
        }
      ]
    },
    {
      "cell_type": "code",
      "source": [
        " # Solution 4:\n",
        "class Node:\n",
        "    # class for creating a node with data and next pointer\n",
        "    def __init__(self, data):\n",
        "        self.data = data  \n",
        "        self.next = None\n",
        "\n",
        "class LinkedList:\n",
        "    # class for creating a linked list\n",
        "    def __init__(self):\n",
        "        self.head = Node(None)   # create dummy node for head\n",
        "\n",
        "    def Reverse_Node(self):\n",
        "        # function to reverse linked list\n",
        "        if self.head.next is None:\n",
        "            return  # return if list is empty or has only one node\n",
        "        \n",
        "        # keep track of previous node\n",
        "        prev = None\n",
        "        # start from head's next node\n",
        "        curr = self.head.next \n",
        "        \n",
        "        # loop through all nodes in the list\n",
        "        while curr:\n",
        "            # store the next node before updating 'next' pointer\n",
        "            next_node = curr.next\n",
        "            # reverse the 'next' pointer to point to previous node\n",
        "            curr.next = prev\n",
        "            # update previous node to current node\n",
        "            prev = curr\n",
        "            # update current node to next node\n",
        "            curr = next_node\n",
        "        \n",
        "        # head should now point to the last node\n",
        "        self.head.next = prev \n",
        "\n",
        "# Creating linked list with nodes 1, 2, and 3\n",
        "a = LinkedList()\n",
        "a.head.next = Node(1)\n",
        "node2 = Node(2)\n",
        "node3 = Node(3)\n",
        "\n",
        "# Connect nodes after node\n",
        "a.head.next.next = node2\n",
        "node2.next = node3\n",
        "\n",
        "# Reverse the linked list\n",
        "a.Reverse_Node()  \n",
        "\n",
        "# Traverse and print the reversed linked list\n",
        "curr = a.head.next\n",
        "result = \"Head->\"\n",
        "while curr:\n",
        "    result += str(curr.data) + \"->\"\n",
        "    curr = curr.next\n",
        "\n",
        "result += \"NULL\"\n",
        "print(result)\n"
      ],
      "metadata": {
        "colab": {
          "base_uri": "https://localhost:8080/"
        },
        "id": "tWQ5Th_tG8ks",
        "outputId": "70f7399e-455d-4ea1-de5b-4818bd7274dd"
      },
      "execution_count": 30,
      "outputs": [
        {
          "output_type": "stream",
          "name": "stdout",
          "text": [
            "Head->3->2->1->NULL\n"
          ]
        }
      ]
    },
    {
      "cell_type": "code",
      "source": [
        "# Solution 5:\n",
        "class Node:\n",
        "    def __init__(self, data):\n",
        "        self.data = data   # store the data for the node\n",
        "        self.next = None   # next node in the linked list\n",
        "\n",
        "# Define the LinkedList class\n",
        "class LinkedList:\n",
        "    def __init__(self):\n",
        "        self.head = Node(None)   # initialize head to None, as it is not part of the linked list\n",
        "        \n",
        "    # Method to calculate the average value of the linked list\n",
        "    def Average_List(self):\n",
        "        curr = self.head.next  # start from the first node after the head\n",
        "        count = 0              # count the number of nodes in the linked list\n",
        "        sum = 0                # sum the values of the nodes in the linked list\n",
        "        \n",
        "        # traverse the linked list\n",
        "        while curr:\n",
        "            count += 1         # increment the count\n",
        "            sum += curr.data   # add the current node's data to the sum\n",
        "            curr = curr.next   # move to the next node\n",
        "        \n",
        "        # return the average value of the linked list\n",
        "        return sum/count\n",
        "\n",
        "# Create a linked list with nodes 1, 2, and 3\n",
        "a = LinkedList()\n",
        "a.head.next = Node(1)\n",
        "node2 = Node(2)\n",
        "node3 = Node(3)\n",
        "\n",
        "# link the nodes together\n",
        "a.head.next.next = node2\n",
        "node2.next = node3\n",
        "\n",
        "# Calculate the average of the linked list\n",
        "average = a.Average_List()\n",
        "\n",
        "# Print the average of the linked list\n",
        "print(\"Average of the linked list is:\", average)\n"
      ],
      "metadata": {
        "colab": {
          "base_uri": "https://localhost:8080/"
        },
        "id": "eqbi0MBxKHCK",
        "outputId": "8bd043f4-f306-4fa2-ef77-721c1501322a"
      },
      "execution_count": 20,
      "outputs": [
        {
          "output_type": "stream",
          "name": "stdout",
          "text": [
            "Average of the linked list is: 2.0\n"
          ]
        }
      ]
    }
  ]
}