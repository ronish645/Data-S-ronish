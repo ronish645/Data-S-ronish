{
  "nbformat": 4,
  "nbformat_minor": 0,
  "metadata": {
    "colab": {
      "provenance": [],
      "authorship_tag": "ABX9TyMbZ/6Tqq7+WodhYDWzxl4e",
      "include_colab_link": true
    },
    "kernelspec": {
      "name": "python3",
      "display_name": "Python 3"
    },
    "language_info": {
      "name": "python"
    }
  },
  "cells": [
    {
      "cell_type": "markdown",
      "metadata": {
        "id": "view-in-github",
        "colab_type": "text"
      },
      "source": [
        "<a href=\"https://colab.research.google.com/github/ronish645/Data-S-ronish/blob/main/Hw7DS.ipynb\" target=\"_parent\"><img src=\"https://colab.research.google.com/assets/colab-badge.svg\" alt=\"Open In Colab\"/></a>"
      ]
    },
    {
      "cell_type": "code",
      "execution_count": null,
      "metadata": {
        "id": "trZS2kER_Zc6"
      },
      "outputs": [],
      "source": [
        "class Node:\n",
        "    def __init__(self, val=None, left=None, right=None):\n",
        "        self.val = val\n",
        "        self.left = left\n",
        "        self.right = right\n",
        "\n",
        "def triple_leaves(root: Node) -> None:\n",
        "    def dfs(node):\n",
        "        if not node:\n",
        "            return\n",
        "        if not node.left and not node.right:\n",
        "            node.val *= 3\n",
        "        dfs(node.left)\n",
        "        dfs(node.right)\n",
        "    dfs(root)\n",
        "\n",
        "# Create a sample binary tree\n",
        "root = Node(1)\n",
        "root.left = Node(2)\n",
        "root.right = Node(3)\n",
        "root.left.left = Node(4)\n",
        "root.left.right = Node(5)\n",
        "root.right.left = Node(6)\n",
        "root.right.right = Node(7)\n",
        "\n",
        "# Call triple_leaves function to triple the values of all leaves in the tree\n",
        "triple_leaves(root)\n",
        "\n",
        "# Traverse the modified tree to verify that the leaf values are tripled\n",
        "def traverse(node):\n",
        "    if not node:\n",
        "        return\n",
        "    traverse(node.left)\n",
        "    if not node.left and not node.right:\n",
        "        print(node.val)\n",
        "    traverse(node.right)\n",
        "    \n",
        "traverse(root)\n"
      ]
    },
    {
      "cell_type": "code",
      "source": [
        "class Node:\n",
        "    def __init__(self, val):\n",
        "        self.val = val\n",
        "        self.left = None\n",
        "        self.right = None\n",
        "\n",
        "def eval_tree(node):\n",
        "    if node is None:\n",
        "        return 0\n",
        "    \n",
        "    # leaf node (number)\n",
        "    if node.left is None and node.right is None:\n",
        "        return int(node.val)\n",
        "    \n",
        "    # evaluate left and right subtrees\n",
        "    left_val = eval_tree(node.left)\n",
        "    right_val = eval_tree(node.right)\n",
        "    \n",
        "    # apply operator\n",
        "    if node.val == '+':\n",
        "        return left_val + right_val\n",
        "    elif node.val == '-':\n",
        "        return left_val - right_val\n",
        "    elif node.val == '*':\n",
        "        return left_val * right_val\n",
        "    elif node.val == '/':\n",
        "        return left_val / right_val\n",
        "    elif node.val == '//':\n",
        "        return left_val // right_val\n",
        "    elif node.val == '%':\n",
        "        return left_val % right_val\n",
        "    elif node.val == '**':\n",
        "        return left_val ** right_val\n",
        "    \n",
        "    # unknown operator\n",
        "    return 0\n",
        "# build tree for expression: 3 + ((5+9)*2)\n",
        "root = Node('+')\n",
        "root.left = Node('3')\n",
        "root.right = Node('*')\n",
        "root.right.left = Node('+')\n",
        "root.right.left.left = Node('5')\n",
        "root.right.left.right = Node('9')\n",
        "root.right.right = Node('2')\n",
        "\n",
        "# evaluate expression\n",
        "result = eval_tree(root)\n",
        "print(result) \n"
      ],
      "metadata": {
        "id": "c2xGPVBh_bqi",
        "outputId": "a099fa7a-28e2-4931-d9ba-4eb42eb0f225",
        "colab": {
          "base_uri": "https://localhost:8080/"
        }
      },
      "execution_count": null,
      "outputs": [
        {
          "output_type": "stream",
          "name": "stdout",
          "text": [
            "31\n"
          ]
        }
      ]
    },
    {
      "cell_type": "code",
      "source": [
        "class Node:\n",
        "    def __init__(self, val):\n",
        "        self.val = val\n",
        "        self.left = None\n",
        "        self.right = None\n",
        "\n",
        "def prune(node, k):\n",
        "    if k <= 0 or node is None:\n",
        "        return None\n",
        "    \n",
        "    node.left = prune(node.left, k-1)\n",
        "    node.right = prune(node.right, k-1)\n",
        "    \n",
        "    return node\n",
        "# create binary tree\n",
        "root = Node(1)\n",
        "root.left = Node(2)\n",
        "root.right = Node(3)\n",
        "root.left.left = Node(4)\n",
        "root.left.right = Node(5)\n",
        "root.right.left = Node(6)\n",
        "root.right.right = Node(7)\n",
        "\n",
        "# prune tree to depth 3\n",
        "pruned_tree = prune(root, 3)\n",
        "\n",
        "# print pruned tree\n",
        "print(pruned_tree.val) # output: 1\n",
        "print(pruned_tree.left.val) # output: 2\n",
        "print(pruned_tree.right.val) # output: 3\n",
        "print(pruned_tree.left.left) # output: None\n",
        "print(pruned_tree.left.right) # output: None\n",
        "print(pruned_tree.right.left) # output: None\n",
        "print(pruned_tree.right.right) # output: None\n"
      ],
      "metadata": {
        "id": "tBC2UNFKAXUC",
        "outputId": "f744f934-744b-4fac-eda9-d07d0827e987",
        "colab": {
          "base_uri": "https://localhost:8080/"
        }
      },
      "execution_count": null,
      "outputs": [
        {
          "output_type": "stream",
          "name": "stdout",
          "text": [
            "1\n",
            "2\n",
            "3\n",
            "<__main__.Node object at 0x7fdbf471a9a0>\n",
            "<__main__.Node object at 0x7fdbf471a970>\n",
            "<__main__.Node object at 0x7fdbf471aa30>\n",
            "<__main__.Node object at 0x7fdbf471a460>\n"
          ]
        }
      ]
    }
  ]
}