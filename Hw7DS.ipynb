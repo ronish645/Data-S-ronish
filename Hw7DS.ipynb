{
  "nbformat": 4,
  "nbformat_minor": 0,
  "metadata": {
    "colab": {
      "provenance": [],
      "authorship_tag": "ABX9TyORO8YsyH2PYWHIOW6ApbYm",
      "include_colab_link": true
    },
    "kernelspec": {
      "name": "python3",
      "display_name": "Python 3"
    },
    "language_info": {
      "name": "python"
    }
  },
  "cells": [
    {
      "cell_type": "markdown",
      "metadata": {
        "id": "view-in-github",
        "colab_type": "text"
      },
      "source": [
        "<a href=\"https://colab.research.google.com/github/ronish645/Data-S-ronish/blob/main/Hw7DS.ipynb\" target=\"_parent\"><img src=\"https://colab.research.google.com/assets/colab-badge.svg\" alt=\"Open In Colab\"/></a>"
      ]
    },
    {
      "cell_type": "code",
      "execution_count": null,
      "metadata": {
        "id": "trZS2kER_Zc6",
        "colab": {
          "base_uri": "https://localhost:8080/"
        },
        "outputId": "a4d8ea71-064b-4988-dddb-8fff7b65bf96"
      },
      "outputs": [
        {
          "output_type": "stream",
          "name": "stdout",
          "text": [
            "12\n",
            "15\n",
            "18\n",
            "21\n"
          ]
        }
      ],
      "source": [
        "#Q.No.1\n",
        "class Node:\n",
        "    def __init__(self, val=None, left=None, right=None):\n",
        "        self.val = val\n",
        "        self.left = left\n",
        "        self.right = right\n",
        "\n",
        "def triple_leaves(root: Node) -> None:\n",
        "    def dfs(node):\n",
        "        if not node:\n",
        "            return\n",
        "        if not node.left and not node.right:\n",
        "            node.val *= 3\n",
        "        dfs(node.left)\n",
        "        dfs(node.right)\n",
        "    dfs(root)\n",
        "\n",
        "# Create a sample binary tree\n",
        "root = Node(1)\n",
        "root.left = Node(2)\n",
        "root.right = Node(3)\n",
        "root.left.left = Node(4)\n",
        "root.left.right = Node(5)\n",
        "root.right.left = Node(6)\n",
        "root.right.right = Node(7)\n",
        "\n",
        "# Call triple_leaves function to triple the values of all leaves in the tree\n",
        "triple_leaves(root)\n",
        "\n",
        "# Traverse the modified tree to verify that the leaf values are tripled\n",
        "def traverse(node):\n",
        "    if not node:\n",
        "        return\n",
        "    traverse(node.left)\n",
        "    if not node.left and not node.right:\n",
        "        print(node.val)\n",
        "    traverse(node.right)\n",
        "    \n",
        "traverse(root)\n"
      ]
    },
    {
      "cell_type": "code",
      "source": [
        "#Q.no.2\n",
        "class FibTree:\n",
        "    def __init__(self, value):\n",
        "        self.value = value\n",
        "        self.left = None\n",
        "        self.right = None\n",
        "    \n",
        "    def add_left_child(self, node):\n",
        "        self.left = node\n",
        "    \n",
        "    def add_right_child(self, node):\n",
        "        self.right = node\n",
        "    \n",
        "    @staticmethod\n",
        "    def fib_tree(n):\n",
        "        if n == 1:\n",
        "            return FibTree(0)\n",
        "        if n == 2:\n",
        "            root = FibTree(1)\n",
        "            root.add_left_child(FibTree(0))\n",
        "            return root\n",
        "        else:\n",
        "            root = FibTree(FibTree.fib_tree(n - 1).value + FibTree.fib_tree(n - 2).value)\n",
        "            root.add_left_child(FibTree.fib_tree(n - 1))\n",
        "            root.add_right_child(FibTree.fib_tree(n - 2))\n",
        "            return root\n",
        "# Create the Fibonacci tree for the 6th term in the sequence\n",
        "root = FibTree.fib_tree(6)\n",
        "\n",
        "# Access the value of the root node\n",
        "print(root.value) # Output: 8\n",
        "\n",
        "# Access the left child of the root node\n",
        "print(root.left.value) # Output: 5\n",
        "\n",
        "# Access the right child of the root node\n",
        "print(root.right.value) # Output: 3\n"
      ],
      "metadata": {
        "colab": {
          "base_uri": "https://localhost:8080/"
        },
        "id": "aerLXckAIgG9",
        "outputId": "cbaa1443-c4a8-44a9-a4c9-8aa76dc65115"
      },
      "execution_count": null,
      "outputs": [
        {
          "output_type": "stream",
          "name": "stdout",
          "text": [
            "5\n",
            "3\n",
            "2\n"
          ]
        }
      ]
    },
    {
      "cell_type": "code",
      "source": [
        "#Q.No.4\n",
        "class Node:\n",
        "    def __init__(self, val):\n",
        "        self.val = val\n",
        "        self.left = None\n",
        "        self.right = None\n",
        "\n",
        "def eval_tree(node):\n",
        "    if node is None:\n",
        "        return 0\n",
        "    \n",
        "    # leaf node (number)\n",
        "    if node.left is None and node.right is None:\n",
        "        return int(node.val)\n",
        "    \n",
        "    # evaluate left and right subtrees\n",
        "    left_val = eval_tree(node.left)\n",
        "    right_val = eval_tree(node.right)\n",
        "    \n",
        "    # apply operator\n",
        "    if node.val == '+':\n",
        "        return left_val + right_val\n",
        "    elif node.val == '-':\n",
        "        return left_val - right_val\n",
        "    elif node.val == '*':\n",
        "        return left_val * right_val\n",
        "    elif node.val == '/':\n",
        "        return left_val / right_val\n",
        "    elif node.val == '//':\n",
        "        return left_val // right_val\n",
        "    elif node.val == '%':\n",
        "        return left_val % right_val\n",
        "    elif node.val == '**':\n",
        "        return left_val ** right_val\n",
        "    \n",
        "    # unknown operator\n",
        "    return 0\n",
        "# build tree for expression: 3 + ((5+9)*2)\n",
        "root = Node('+')\n",
        "root.left = Node('3')\n",
        "root.right = Node('*')\n",
        "root.right.left = Node('+')\n",
        "root.right.left.left = Node('5')\n",
        "root.right.left.right = Node('9')\n",
        "root.right.right = Node('2')\n",
        "\n",
        "# evaluate expression\n",
        "result = eval_tree(root)\n",
        "print(result) \n"
      ],
      "metadata": {
        "id": "c2xGPVBh_bqi",
        "outputId": "2dcc16a9-e6e3-42c8-e277-87cfba7df1cb",
        "colab": {
          "base_uri": "https://localhost:8080/"
        }
      },
      "execution_count": null,
      "outputs": [
        {
          "output_type": "stream",
          "name": "stdout",
          "text": [
            "31\n"
          ]
        }
      ]
    },
    {
      "cell_type": "code",
      "source": [
        "#Q.no.5\n",
        "class TreeNode:\n",
        "    def __init__(self, val=0, left=None, right=None):\n",
        "        self.val = val\n",
        "        self.left = left\n",
        "        self.right = right\n",
        "\n",
        "\n",
        "class BinaryTree:\n",
        "    def __init__(self, root=None):\n",
        "        self.root = root\n",
        "\n",
        "    def _prune_helper(self, node, depth, k):\n",
        "        if not node or depth > k:\n",
        "            return None\n",
        "        new_node = TreeNode(node.val)\n",
        "        new_node.left = self._prune_helper(node.left, depth + 1, k)\n",
        "        new_node.right = self._prune_helper(node.right, depth + 1, k)\n",
        "        return new_node\n",
        "\n",
        "    def prune(self, k):\n",
        "        return BinaryTree(self._prune_helper(self.root, 1, k))\n",
        "\n",
        "\n",
        "def print_tree(node, depth=0):\n",
        "    if not node:\n",
        "        return\n",
        "    print_tree(node.left, depth + 1)\n",
        "    print('  ' * depth + str(node.val))\n",
        "    print_tree(node.right, depth + 1)\n",
        "\n",
        "# Example usage:\n",
        "t = BinaryTree(TreeNode(1, TreeNode(2, TreeNode(4), TreeNode(5)), TreeNode(3, TreeNode(6), TreeNode(7))))\n",
        "\n",
        "print(\"Original tree:\")\n",
        "print_tree(t.root)\n",
        "\n",
        "pruned_tree = t.prune(3)\n",
        "print(\"Pruned tree (k = 3):\")\n",
        "print_tree(pruned_tree.root)\n",
        "\n"
      ],
      "metadata": {
        "colab": {
          "base_uri": "https://localhost:8080/"
        },
        "id": "KDcuy3XN200k",
        "outputId": "a3c6add9-4c94-4e06-9621-e1c609f0ae88"
      },
      "execution_count": 3,
      "outputs": [
        {
          "output_type": "stream",
          "name": "stdout",
          "text": [
            "Original tree:\n",
            "    4\n",
            "  2\n",
            "    5\n",
            "1\n",
            "    6\n",
            "  3\n",
            "    7\n",
            "Pruned tree (k = 3):\n",
            "    4\n",
            "  2\n",
            "    5\n",
            "1\n",
            "    6\n",
            "  3\n",
            "    7\n"
          ]
        }
      ]
    }
  ]
}