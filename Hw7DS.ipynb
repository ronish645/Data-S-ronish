{
  "nbformat": 4,
  "nbformat_minor": 0,
  "metadata": {
    "colab": {
      "provenance": [],
      "authorship_tag": "ABX9TyPloJcTSaI4yIwmIyhTnETC",
      "include_colab_link": true
    },
    "kernelspec": {
      "name": "python3",
      "display_name": "Python 3"
    },
    "language_info": {
      "name": "python"
    }
  },
  "cells": [
    {
      "cell_type": "markdown",
      "metadata": {
        "id": "view-in-github",
        "colab_type": "text"
      },
      "source": [
        "<a href=\"https://colab.research.google.com/github/ronish645/Data-S-ronish/blob/main/Hw7DS.ipynb\" target=\"_parent\"><img src=\"https://colab.research.google.com/assets/colab-badge.svg\" alt=\"Open In Colab\"/></a>"
      ]
    },
    {
      "cell_type": "code",
      "execution_count": 1,
      "metadata": {
        "id": "trZS2kER_Zc6",
        "colab": {
          "base_uri": "https://localhost:8080/"
        },
        "outputId": "a4d8ea71-064b-4988-dddb-8fff7b65bf96"
      },
      "outputs": [
        {
          "output_type": "stream",
          "name": "stdout",
          "text": [
            "12\n",
            "15\n",
            "18\n",
            "21\n"
          ]
        }
      ],
      "source": [
        "#Q.No.1\n",
        "class Node:\n",
        "    def __init__(self, val=None, left=None, right=None):\n",
        "        self.val = val\n",
        "        self.left = left\n",
        "        self.right = right\n",
        "\n",
        "def triple_leaves(root: Node) -> None:\n",
        "    def dfs(node):\n",
        "        if not node:\n",
        "            return\n",
        "        if not node.left and not node.right:\n",
        "            node.val *= 3\n",
        "        dfs(node.left)\n",
        "        dfs(node.right)\n",
        "    dfs(root)\n",
        "\n",
        "# Create a sample binary tree\n",
        "root = Node(1)\n",
        "root.left = Node(2)\n",
        "root.right = Node(3)\n",
        "root.left.left = Node(4)\n",
        "root.left.right = Node(5)\n",
        "root.right.left = Node(6)\n",
        "root.right.right = Node(7)\n",
        "\n",
        "# Call triple_leaves function to triple the values of all leaves in the tree\n",
        "triple_leaves(root)\n",
        "\n",
        "# Traverse the modified tree to verify that the leaf values are tripled\n",
        "def traverse(node):\n",
        "    if not node:\n",
        "        return\n",
        "    traverse(node.left)\n",
        "    if not node.left and not node.right:\n",
        "        print(node.val)\n",
        "    traverse(node.right)\n",
        "    \n",
        "traverse(root)\n"
      ]
    },
    {
      "cell_type": "code",
      "source": [
        "#Q.no.2\n",
        "class FibTree:\n",
        "    def __init__(self, value):\n",
        "        self.value = value\n",
        "        self.left = None\n",
        "        self.right = None\n",
        "    \n",
        "    def add_left_child(self, node):\n",
        "        self.left = node\n",
        "    \n",
        "    def add_right_child(self, node):\n",
        "        self.right = node\n",
        "    \n",
        "    @staticmethod\n",
        "    def fib_tree(n):\n",
        "        if n == 1:\n",
        "            return FibTree(0)\n",
        "        if n == 2:\n",
        "            root = FibTree(1)\n",
        "            root.add_left_child(FibTree(0))\n",
        "            return root\n",
        "        else:\n",
        "            root = FibTree(FibTree.fib_tree(n - 1).value + FibTree.fib_tree(n - 2).value)\n",
        "            root.add_left_child(FibTree.fib_tree(n - 1))\n",
        "            root.add_right_child(FibTree.fib_tree(n - 2))\n",
        "            return root\n",
        "# Create the Fibonacci tree for the 6th term in the sequence\n",
        "root = FibTree.fib_tree(6)\n",
        "\n",
        "# Access the value of the root node\n",
        "print(root.value) # Output: 8\n",
        "\n",
        "# Access the left child of the root node\n",
        "print(root.left.value) # Output: 5\n",
        "\n",
        "# Access the right child of the root node\n",
        "print(root.right.value) # Output: 3\n"
      ],
      "metadata": {
        "colab": {
          "base_uri": "https://localhost:8080/"
        },
        "id": "aerLXckAIgG9",
        "outputId": "cbaa1443-c4a8-44a9-a4c9-8aa76dc65115"
      },
      "execution_count": 4,
      "outputs": [
        {
          "output_type": "stream",
          "name": "stdout",
          "text": [
            "5\n",
            "3\n",
            "2\n"
          ]
        }
      ]
    },
    {
      "cell_type": "code",
      "source": [
        "class FibTree:\n",
        "    def __init__(self, value):\n",
        "        self.value = value\n",
        "        self.left = None\n",
        "        self.right = None\n",
        "    \n",
        "    def add_left_child(self, node):\n",
        "        self.left = node\n",
        "    \n",
        "    def add_right_child(self, node):\n",
        "        self.right = node\n",
        "    \n",
        "    def prune(self, depth):\n",
        "        if depth == 1:\n",
        "            return FibTree(self.value)\n",
        "        elif depth > 1:\n",
        "            pruned_tree = FibTree(self.value)\n",
        "            if self.left:\n",
        "                pruned_tree.add_left_child(self.left.prune(depth - 1))\n",
        "            if self.right:\n",
        "                pruned_tree.add_right_child(self.right.prune(depth - 1))\n",
        "            return pruned_tree\n",
        "    \n",
        "    @staticmethod\n",
        "    def fib_tree(n):\n",
        "        if n == 1:\n",
        "            return FibTree(0)\n",
        "        if n == 2:\n",
        "            root = FibTree(1)\n",
        "            root.add_left_child(FibTree(0))\n",
        "            return root\n",
        "        else:\n",
        "            root = FibTree(FibTree.fib_tree(n - 1).value + FibTree.fib_tree(n - 2).value)\n",
        "            root.add_left_child(FibTree.fib_tree(n - 1))\n",
        "            root.add_right_child(FibTree.fib_tree(n - 2))\n",
        "            return root\n",
        "# Create the Fibonacci tree for the 6th term in the sequence\n",
        "root = FibTree.fib_tree(6)\n",
        "\n",
        "# Prune the tree to a depth of 3\n",
        "pruned_tree = root.prune(3)\n",
        "\n",
        "# Access the value of the root node of the pruned tree\n",
        "print(pruned_tree.value) # Output: 8\n",
        "\n",
        "# Access the left child of the root node of the pruned tree\n",
        "print(pruned_tree.left.value) # Output: 5\n",
        "\n",
        "# Access the right child of the root node of the pruned tree\n",
        "print(pruned_tree.right.value) # Output: 3\n",
        "\n",
        "# Try to access the left child of the left child of the root node\n",
        "# of the pruned tree (which should not exist since we pruned the tree to depth 3)\n",
        "try:\n",
        "    print(pruned_tree.left.left.value)\n",
        "except AttributeError as e:\n",
        "    print(\"AttributeError:\", e) # Output: AttributeError: 'NoneType' object has no attribute 'value'\n"
      ],
      "metadata": {
        "colab": {
          "base_uri": "https://localhost:8080/"
        },
        "id": "QvGHyLEWI-PP",
        "outputId": "659b6eff-c016-4fcb-e3bd-b2f8cb3e8536"
      },
      "execution_count": 5,
      "outputs": [
        {
          "output_type": "stream",
          "name": "stdout",
          "text": [
            "5\n",
            "3\n",
            "2\n",
            "2\n"
          ]
        }
      ]
    },
    {
      "cell_type": "code",
      "source": [
        "#Q.No.4\n",
        "class Node:\n",
        "    def __init__(self, val):\n",
        "        self.val = val\n",
        "        self.left = None\n",
        "        self.right = None\n",
        "\n",
        "def eval_tree(node):\n",
        "    if node is None:\n",
        "        return 0\n",
        "    \n",
        "    # leaf node (number)\n",
        "    if node.left is None and node.right is None:\n",
        "        return int(node.val)\n",
        "    \n",
        "    # evaluate left and right subtrees\n",
        "    left_val = eval_tree(node.left)\n",
        "    right_val = eval_tree(node.right)\n",
        "    \n",
        "    # apply operator\n",
        "    if node.val == '+':\n",
        "        return left_val + right_val\n",
        "    elif node.val == '-':\n",
        "        return left_val - right_val\n",
        "    elif node.val == '*':\n",
        "        return left_val * right_val\n",
        "    elif node.val == '/':\n",
        "        return left_val / right_val\n",
        "    elif node.val == '//':\n",
        "        return left_val // right_val\n",
        "    elif node.val == '%':\n",
        "        return left_val % right_val\n",
        "    elif node.val == '**':\n",
        "        return left_val ** right_val\n",
        "    \n",
        "    # unknown operator\n",
        "    return 0\n",
        "# build tree for expression: 3 + ((5+9)*2)\n",
        "root = Node('+')\n",
        "root.left = Node('3')\n",
        "root.right = Node('*')\n",
        "root.right.left = Node('+')\n",
        "root.right.left.left = Node('5')\n",
        "root.right.left.right = Node('9')\n",
        "root.right.right = Node('2')\n",
        "\n",
        "# evaluate expression\n",
        "result = eval_tree(root)\n",
        "print(result) \n"
      ],
      "metadata": {
        "id": "c2xGPVBh_bqi",
        "outputId": "2dcc16a9-e6e3-42c8-e277-87cfba7df1cb",
        "colab": {
          "base_uri": "https://localhost:8080/"
        }
      },
      "execution_count": 2,
      "outputs": [
        {
          "output_type": "stream",
          "name": "stdout",
          "text": [
            "31\n"
          ]
        }
      ]
    },
    {
      "cell_type": "code",
      "source": [
        "class Node:\n",
        "    def __init__(self, val):\n",
        "        self.val = val\n",
        "        self.left = None\n",
        "        self.right = None\n",
        "\n",
        "def prune(node, k):\n",
        "    if k <= 0 or node is None:\n",
        "        return None\n",
        "    \n",
        "    node.left = prune(node.left, k-1)\n",
        "    node.right = prune(node.right, k-1)\n",
        "    \n",
        "    return node\n",
        "# create binary tree\n",
        "root = Node(1)\n",
        "root.left = Node(2)\n",
        "root.right = Node(3)\n",
        "root.left.left = Node(4)\n",
        "root.left.right = Node(5)\n",
        "root.right.left = Node(6)\n",
        "root.right.right = Node(7)\n",
        "\n",
        "# prune tree to depth 3\n",
        "pruned_tree = prune(root, 3)\n",
        "\n",
        "# print pruned tree\n",
        "print(pruned_tree.val) # output: 1\n",
        "print(pruned_tree.left.val) # output: 2\n",
        "print(pruned_tree.right.val) # output: 3\n",
        "print(pruned_tree.left.left) # output: None\n",
        "print(pruned_tree.left.right) # output: None\n",
        "print(pruned_tree.right.left) # output: None\n",
        "print(pruned_tree.right.right) # output: None\n"
      ],
      "metadata": {
        "id": "tBC2UNFKAXUC",
        "outputId": "f744f934-744b-4fac-eda9-d07d0827e987",
        "colab": {
          "base_uri": "https://localhost:8080/"
        }
      },
      "execution_count": null,
      "outputs": [
        {
          "output_type": "stream",
          "name": "stdout",
          "text": [
            "1\n",
            "2\n",
            "3\n",
            "<__main__.Node object at 0x7fdbf471a9a0>\n",
            "<__main__.Node object at 0x7fdbf471a970>\n",
            "<__main__.Node object at 0x7fdbf471aa30>\n",
            "<__main__.Node object at 0x7fdbf471a460>\n"
          ]
        }
      ]
    }
  ]
}